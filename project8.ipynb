{
 "cells": [
  {
   "cell_type": "markdown",
   "metadata": {},
   "source": [
    "# ¡Hola, Yair!  \n",
    "\n",
    "Mi nombre es Carlos Ortiz, soy code reviewer de TripleTen y voy a revisar el proyecto que acabas de desarrollar.\n",
    "\n",
    "Cuando vea un error la primera vez, lo señalaré. Deberás encontrarlo y arreglarlo. La intención es que te prepares para un espacio real de trabajo. En un trabajo, el líder de tu equipo hará lo mismo. Si no puedes solucionar el error, te daré más información en la próxima ocasión. \n",
    "\n",
    "Encontrarás mis comentarios más abajo - **por favor, no los muevas, no los modifiques ni los borres**.\n",
    "\n",
    "¿Cómo lo voy a hacer? Voy a leer detenidamente cada una de las implementaciones que has llevado a cabo para cumplir con lo solicitado. Verás los comentarios de esta forma:\n",
    "\n",
    "<div class=\"alert alert-block alert-success\">\n",
    "<b>Comentario del revisor</b> <a class=\"tocSkip\"></a>\n",
    "    \n",
    "Si todo está perfecto.\n",
    "</div>\n",
    "\n",
    "\n",
    "<div class=\"alert alert-block alert-warning\">\n",
    "<b>Comentario del revisor</b> <a class=\"tocSkip\"></a>\n",
    "    \n",
    "Si tu código está bien pero se puede mejorar o hay algún detalle que le hace falta.\n",
    "</div>\n",
    "\n",
    "\n",
    "<div class=\"alert alert-block alert-danger\">\n",
    "    \n",
    "<b>Comentario del revisor</b> <a class=\"tocSkip\"></a>\n",
    "    \n",
    "    \n",
    "Si de pronto hace falta algo o existe algún problema con tu código o conclusiones.\n",
    "</div>\n",
    "\n",
    "\n",
    "Puedes responderme de esta forma: \n",
    "\n",
    "\n",
    "<div class=\"alert alert-block alert-info\">\n",
    "<b>Respuesta del estudiante</b> <a class=\"tocSkip\"></a>\n",
    "</div>\n",
    "¡Empecemos!"
   ]
  },
  {
   "cell_type": "code",
   "execution_count": 1,
   "metadata": {},
   "outputs": [],
   "source": [
    "#importar librerias\n",
    "import pandas as pd\n",
    "import datetime as dt\n",
    "import numpy as np\n",
    "import matplotlib.pyplot as plt\n",
    "import scipy.stats as stats\n",
    "import seaborn as sns"
   ]
  },
  {
   "cell_type": "code",
   "execution_count": 2,
   "metadata": {},
   "outputs": [],
   "source": [
    "#leer librerias\n",
    "hypotheses=pd.read_csv('/datasets/hypotheses_us.csv',sep=';')\n",
    "orders=pd.read_csv('/datasets/orders_us.csv')\n",
    "visits=pd.read_csv('/datasets/visits_us.csv')\n"
   ]
  },
  {
   "cell_type": "markdown",
   "metadata": {},
   "source": [
    "<div class=\"alert alert-block alert-success\">\n",
    "<b>Comentario del revisor</b> <a class=\"tocSkip\"></a>\n",
    "    \n",
    "Buen trabajo con esta importación de datos y librerías.\n",
    "</div>"
   ]
  },
  {
   "cell_type": "code",
   "execution_count": 3,
   "metadata": {},
   "outputs": [],
   "source": [
    "#arreglar las columnas de hypotheses\n",
    "hypotheses.columns = hypotheses.columns.str.lower().str.replace(' ', '_')"
   ]
  },
  {
   "cell_type": "code",
   "execution_count": 4,
   "metadata": {},
   "outputs": [],
   "source": [
    "#poner formato de fecha a orders\n",
    "orders['date'] = orders['date'].map(\n",
    "    lambda x: dt.datetime.strptime(x, '%Y-%m-%d')\n",
    ")\n",
    "#arreglar las columnas de orders\n",
    "orders.columns = orders.columns.str.lower().str.replace(' ', '_')\n",
    "#poner formato de fecha a visits\n",
    "visits['date'] = visits['date'].map(\n",
    "    lambda x: dt.datetime.strptime(x, '%Y-%m-%d')\n",
    ")\n",
    "#arreglar las columnas de visits\n",
    "visits.columns = visits.columns.str.lower().str.replace(' ', '_')"
   ]
  },
  {
   "cell_type": "code",
   "execution_count": 5,
   "metadata": {
    "scrolled": true
   },
   "outputs": [
    {
     "name": "stdout",
     "output_type": "stream",
     "text": [
      "Empty DataFrame\n",
      "Columns: [transactionid, visitorid, date, revenue, group]\n",
      "Index: []\n"
     ]
    }
   ],
   "source": [
    "#borrar los duplicados de orders\n",
    "\n",
    "# Crear una Serie booleana que indica si el 'visitorid' está en ambos grupos A y B\n",
    "is_in_both_groups = orders.groupby('visitorid')['group'].transform(lambda x: set(x) == {'A', 'B'})\n",
    "\n",
    "# Filtrar las filas donde el 'visitorid' está en ambos grupos\n",
    "orders = orders[~is_in_both_groups]\n",
    "\n",
    "\n",
    "# Filtrar todas las filas donde el visitorid es igual a 4256040402\n",
    "rows_with_visitorid = orders[orders['visitorid'] == 4256040402]\n",
    "\n",
    "# Imprimir o trabajar con las filas resultantes\n",
    "print(rows_with_visitorid)"
   ]
  },
  {
   "cell_type": "markdown",
   "metadata": {},
   "source": [
    "<div class=\"alert alert-block alert-success\">\n",
    "<b>Comentario del revisor</b> <a class=\"tocSkip\"></a>\n",
    "    \n",
    "Excelente trabajo con el método `transform`.\n",
    "</div>"
   ]
  },
  {
   "cell_type": "markdown",
   "metadata": {},
   "source": [
    "## Parte 1. Priorizar hipótesis"
   ]
  },
  {
   "cell_type": "markdown",
   "metadata": {},
   "source": [
    "### Aplicar el framework ICE para priorizar hipótesis. Ordenarlas en orden descendente de prioridad."
   ]
  },
  {
   "cell_type": "code",
   "execution_count": 6,
   "metadata": {},
   "outputs": [
    {
     "name": "stdout",
     "output_type": "stream",
     "text": [
      "                                                                                                               hypothesis  \\\n",
      "8                                                        Launch a promotion that gives users discounts on their birthdays   \n",
      "0                                             Add two new channels for attracting traffic. This will bring 30% more users   \n",
      "7                                Add a subscription form to all the main pages. This will help you compile a mailing list   \n",
      "6                                 Show banners with current offers and sales on the main page. This will boost conversion   \n",
      "2          Add product recommendation blocks to the store's site. This will increase conversion and average purchase size   \n",
      "1                                                       Launch your own delivery service. This will shorten delivery time   \n",
      "5                                                     Add a customer review page. This will increase the number of orders   \n",
      "3  Change the category structure. This will increase conversion since users will find the products they want more quickly   \n",
      "4                                        Change the background color on the main page. This will increase user engagement   \n",
      "\n",
      "         ice  \n",
      "8  16.200000  \n",
      "0  13.333333  \n",
      "7  11.200000  \n",
      "6   8.000000  \n",
      "2   7.000000  \n",
      "1   2.000000  \n",
      "5   1.333333  \n",
      "3   1.125000  \n",
      "4   1.000000  \n"
     ]
    }
   ],
   "source": [
    "pd.set_option('display.max_colwidth', None)\n",
    "hypotheses['ice']=(hypotheses['impact']*hypotheses['confidence'])/hypotheses['effort']\n",
    "print(hypotheses[['hypothesis','ice']].sort_values(by='ice',ascending=False))\n"
   ]
  },
  {
   "cell_type": "markdown",
   "metadata": {},
   "source": [
    "Segun el framework ice la hipotesis \"Launch a promotion that gives users discounts on their birthdays\" es la mejor"
   ]
  },
  {
   "cell_type": "markdown",
   "metadata": {},
   "source": [
    "### Aplicar el framework RICE para priorizar hipótesis. Ordenarlas en orden descendente de prioridad."
   ]
  },
  {
   "cell_type": "code",
   "execution_count": 7,
   "metadata": {},
   "outputs": [
    {
     "name": "stdout",
     "output_type": "stream",
     "text": [
      "                                                                                                               hypothesis  \\\n",
      "7                                Add a subscription form to all the main pages. This will help you compile a mailing list   \n",
      "2          Add product recommendation blocks to the store's site. This will increase conversion and average purchase size   \n",
      "0                                             Add two new channels for attracting traffic. This will bring 30% more users   \n",
      "6                                 Show banners with current offers and sales on the main page. This will boost conversion   \n",
      "8                                                        Launch a promotion that gives users discounts on their birthdays   \n",
      "3  Change the category structure. This will increase conversion since users will find the products they want more quickly   \n",
      "1                                                       Launch your own delivery service. This will shorten delivery time   \n",
      "5                                                     Add a customer review page. This will increase the number of orders   \n",
      "4                                        Change the background color on the main page. This will increase user engagement   \n",
      "\n",
      "    rice  \n",
      "7  112.0  \n",
      "2   56.0  \n",
      "0   40.0  \n",
      "6   40.0  \n",
      "8   16.2  \n",
      "3    9.0  \n",
      "1    4.0  \n",
      "5    4.0  \n",
      "4    3.0  \n"
     ]
    }
   ],
   "source": [
    "pd.set_option('display.max_colwidth', None)\n",
    "hypotheses['rice']=(hypotheses['reach']*hypotheses['impact']*hypotheses['confidence'])/hypotheses['effort']\n",
    "print(hypotheses[['hypothesis','rice']].sort_values(by='rice',ascending=False))"
   ]
  },
  {
   "cell_type": "markdown",
   "metadata": {},
   "source": [
    "segun el framework rice la tesis que se debe priorizar es  \"Add a subscription form to all the main pages. This will help you compile a mailing list\""
   ]
  },
  {
   "cell_type": "markdown",
   "metadata": {},
   "source": [
    "### Mostrar cómo cambia la priorización de hipótesis cuando utilizas RICE en lugar de ICE. Proporcionar una explicación de los cambios."
   ]
  },
  {
   "cell_type": "code",
   "execution_count": 8,
   "metadata": {},
   "outputs": [
    {
     "data": {
      "text/plain": [
       "Text(0.5, 1.0, 'Gráfico de priorizacion de hipotesis')"
      ]
     },
     "execution_count": 8,
     "metadata": {},
     "output_type": "execute_result"
    },
    {
     "data": {
      "image/png": "[encoded data removed]",
      "text/plain": [
       "<Figure size 432x288 with 1 Axes>"
      ]
     },
     "metadata": {
      "needs_background": "light"
     },
     "output_type": "display_data"
    }
   ],
   "source": [
    "plt.scatter(hypotheses['ice'],hypotheses['rice'])\n",
    "for i, row in hypotheses.iterrows():\n",
    "    plt.text(row['ice'], row['rice'], str(row.name), ha='right', va='bottom')\n",
    "plt.xlabel('ICE')\n",
    "plt.ylabel('RICE')\n",
    "plt.title('Gráfico de priorizacion de hipotesis')  "
   ]
  },
  {
   "cell_type": "markdown",
   "metadata": {},
   "source": [
    "en el grafico se ve claramente que la hipotesis \"Add a subscription form to all the main pages. This will help you compile a mailing list\" es superior a las demas y deberia priorizarse"
   ]
  },
  {
   "cell_type": "markdown",
   "metadata": {},
   "source": [
    "## Parte 2. Análisis de test A/B"
   ]
  },
  {
   "cell_type": "markdown",
   "metadata": {},
   "source": [
    "### Representa gráficamente el ingreso acumulado por grupo. Haz conclusiones y conjeturas."
   ]
  },
  {
   "cell_type": "code",
   "execution_count": 9,
   "metadata": {},
   "outputs": [
    {
     "data": {
      "text/html": [
       "<div>\n",
       "<style scoped>\n",
       "    .dataframe tbody tr th:only-of-type {\n",
       "        vertical-align: middle;\n",
       "    }\n",
       "\n",
       "    .dataframe tbody tr th {\n",
       "        vertical-align: top;\n",
       "    }\n",
       "\n",
       "    .dataframe thead th {\n",
       "        text-align: right;\n",
       "    }\n",
       "</style>\n",
       "<table border=\"1\" class=\"dataframe\">\n",
       "  <thead>\n",
       "    <tr style=\"text-align: right;\">\n",
       "      <th></th>\n",
       "      <th>date</th>\n",
       "      <th>group</th>\n",
       "      <th>orders</th>\n",
       "      <th>buyers</th>\n",
       "      <th>revenue</th>\n",
       "      <th>visitors</th>\n",
       "    </tr>\n",
       "  </thead>\n",
       "  <tbody>\n",
       "    <tr>\n",
       "      <th>0</th>\n",
       "      <td>2019-08-01</td>\n",
       "      <td>A</td>\n",
       "      <td>23</td>\n",
       "      <td>19</td>\n",
       "      <td>2266.6</td>\n",
       "      <td>719</td>\n",
       "    </tr>\n",
       "    <tr>\n",
       "      <th>1</th>\n",
       "      <td>2019-08-01</td>\n",
       "      <td>B</td>\n",
       "      <td>17</td>\n",
       "      <td>17</td>\n",
       "      <td>967.2</td>\n",
       "      <td>713</td>\n",
       "    </tr>\n",
       "    <tr>\n",
       "      <th>2</th>\n",
       "      <td>2019-08-02</td>\n",
       "      <td>A</td>\n",
       "      <td>42</td>\n",
       "      <td>36</td>\n",
       "      <td>3734.9</td>\n",
       "      <td>1338</td>\n",
       "    </tr>\n",
       "    <tr>\n",
       "      <th>3</th>\n",
       "      <td>2019-08-02</td>\n",
       "      <td>B</td>\n",
       "      <td>40</td>\n",
       "      <td>39</td>\n",
       "      <td>3535.3</td>\n",
       "      <td>1294</td>\n",
       "    </tr>\n",
       "    <tr>\n",
       "      <th>4</th>\n",
       "      <td>2019-08-03</td>\n",
       "      <td>A</td>\n",
       "      <td>66</td>\n",
       "      <td>60</td>\n",
       "      <td>5550.1</td>\n",
       "      <td>1845</td>\n",
       "    </tr>\n",
       "    <tr>\n",
       "      <th>...</th>\n",
       "      <td>...</td>\n",
       "      <td>...</td>\n",
       "      <td>...</td>\n",
       "      <td>...</td>\n",
       "      <td>...</td>\n",
       "      <td>...</td>\n",
       "    </tr>\n",
       "    <tr>\n",
       "      <th>57</th>\n",
       "      <td>2019-08-29</td>\n",
       "      <td>B</td>\n",
       "      <td>510</td>\n",
       "      <td>490</td>\n",
       "      <td>74576.7</td>\n",
       "      <td>17708</td>\n",
       "    </tr>\n",
       "    <tr>\n",
       "      <th>58</th>\n",
       "      <td>2019-08-30</td>\n",
       "      <td>A</td>\n",
       "      <td>460</td>\n",
       "      <td>437</td>\n",
       "      <td>52363.7</td>\n",
       "      <td>18037</td>\n",
       "    </tr>\n",
       "    <tr>\n",
       "      <th>59</th>\n",
       "      <td>2019-08-30</td>\n",
       "      <td>B</td>\n",
       "      <td>531</td>\n",
       "      <td>511</td>\n",
       "      <td>77863.5</td>\n",
       "      <td>18198</td>\n",
       "    </tr>\n",
       "    <tr>\n",
       "      <th>60</th>\n",
       "      <td>2019-08-31</td>\n",
       "      <td>A</td>\n",
       "      <td>468</td>\n",
       "      <td>445</td>\n",
       "      <td>53212.0</td>\n",
       "      <td>18736</td>\n",
       "    </tr>\n",
       "    <tr>\n",
       "      <th>61</th>\n",
       "      <td>2019-08-31</td>\n",
       "      <td>B</td>\n",
       "      <td>548</td>\n",
       "      <td>528</td>\n",
       "      <td>79651.2</td>\n",
       "      <td>18916</td>\n",
       "    </tr>\n",
       "  </tbody>\n",
       "</table>\n",
       "<p>62 rows × 6 columns</p>\n",
       "</div>"
      ],
      "text/plain": [
       "         date group  orders  buyers  revenue  visitors\n",
       "0  2019-08-01     A      23      19   2266.6       719\n",
       "1  2019-08-01     B      17      17    967.2       713\n",
       "2  2019-08-02     A      42      36   3734.9      1338\n",
       "3  2019-08-02     B      40      39   3535.3      1294\n",
       "4  2019-08-03     A      66      60   5550.1      1845\n",
       "..        ...   ...     ...     ...      ...       ...\n",
       "57 2019-08-29     B     510     490  74576.7     17708\n",
       "58 2019-08-30     A     460     437  52363.7     18037\n",
       "59 2019-08-30     B     531     511  77863.5     18198\n",
       "60 2019-08-31     A     468     445  53212.0     18736\n",
       "61 2019-08-31     B     548     528  79651.2     18916\n",
       "\n",
       "[62 rows x 6 columns]"
      ]
     },
     "execution_count": 9,
     "metadata": {},
     "output_type": "execute_result"
    }
   ],
   "source": [
    "# crea una matriz con valores únicos de parejas fecha-grupo\n",
    "datesGroups = orders[['date','group']].drop_duplicates()\n",
    "#obetener los datos agregados por ordenes por dia\n",
    "ordersAggregated = datesGroups.apply(lambda x: orders[np.logical_and(orders['date'] <= x['date'], orders['group'] == x['group'])].agg({'date' : 'max', 'group' : 'max', 'transactionid' : pd.Series.nunique, 'visitorid' : pd.Series.nunique, 'revenue' : 'sum'}), axis=1).sort_values(by=['date','group'])\n",
    "#obtener los datos agregados por visita poor dia\n",
    "visitorsAggregated = datesGroups.apply(lambda x: visits[np.logical_and(visits['date'] <= x['date'], visits['group'] == x['group'])].agg({'date' : 'max', 'group' : 'max', 'visits' : 'sum'}), axis=1).sort_values(by=['date','group'])\n",
    "#juntar las dos tablas\n",
    "acumulativedata=pd.merge(ordersAggregated,visitorsAggregated,left_on=['date','group'],right_on=['date','group'])\n",
    "acumulativedata.columns=['date', 'group', 'orders', 'buyers', 'revenue', 'visitors']\n",
    "acumulativedata"
   ]
  },
  {
   "cell_type": "code",
   "execution_count": 10,
   "metadata": {
    "scrolled": true
   },
   "outputs": [
    {
     "data": {
      "image/png": "[encoded data removed]",
      "text/plain": [
       "<Figure size 432x288 with 1 Axes>"
      ]
     },
     "metadata": {
      "needs_background": "light"
     },
     "output_type": "display_data"
    }
   ],
   "source": [
    "import matplotlib.pyplot as plt\n",
    "\n",
    "# Datos acumulados para el grupo A\n",
    "acumulativedata_a = acumulativedata[acumulativedata['group']=='A'][['date','revenue','orders']]\n",
    "\n",
    "# Datos acumulados para el grupo B\n",
    "acumulativedata_b = acumulativedata[acumulativedata['group']=='B'][['date','revenue','orders']]\n",
    "\n",
    "# Hacer gráfico de ingresos para el grupo A\n",
    "plt.plot(acumulativedata_a['date'], acumulativedata_a['revenue'], label='A')\n",
    "\n",
    "# Hacer gráfico de ingresos para el grupo B\n",
    "plt.plot(acumulativedata_b['date'], acumulativedata_b['revenue'], label='B')\n",
    "\n",
    "plt.title('Ingreso Acumulado por Grupo')\n",
    "plt.xlabel('Fecha')\n",
    "plt.ylabel('Ingreso Acumulado')\n",
    "\n",
    "plt.xticks(rotation='45')\n",
    "# Añadir leyenda después de crear la figura\n",
    "plt.legend()\n",
    "\n",
    "# Mostrar el gráfico\n",
    "plt.show()\n"
   ]
  },
  {
   "cell_type": "markdown",
   "metadata": {},
   "source": [
    "de manera general el revenue aumenta durante todo la prueba pero en el caso de tratmiento experimento una fuerte subida despues de la mitad de la prueba eso se podria dar por algun dato atipico"
   ]
  },
  {
   "cell_type": "markdown",
   "metadata": {},
   "source": [
    "### Representa gráficamente el tamaño de pedido promedio acumulado por grupo. Haz conclusiones y conjeturas."
   ]
  },
  {
   "cell_type": "code",
   "execution_count": 11,
   "metadata": {},
   "outputs": [
    {
     "data": {
      "image/png": "[encoded data removed]",
      "text/plain": [
       "<Figure size 432x288 with 1 Axes>"
      ]
     },
     "metadata": {
      "needs_background": "light"
     },
     "output_type": "display_data"
    }
   ],
   "source": [
    "#tamaño de pedido por grupo a\n",
    "plt.plot(acumulativedata_a['date'],acumulativedata_a['revenue']/acumulativedata_a['orders'],label='A')\n",
    "#tamaño de pedido por grupo b\n",
    "plt.plot(acumulativedata_b['date'],acumulativedata_b['revenue']/acumulativedata_b['orders'],label='B')\n",
    "plt.title('pedido promedio Acumulado por Grupo')\n",
    "plt.xlabel('Fecha')\n",
    "plt.ylabel('pedido promedio')\n",
    "\n",
    "plt.xticks(rotation='45')\n",
    "# Añadir leyenda después de crear la figura\n",
    "plt.legend()\n",
    "\n",
    "# Mostrar el gráfico\n",
    "plt.show()\n"
   ]
  },
  {
   "cell_type": "markdown",
   "metadata": {},
   "source": [
    "en este caso el tamaño de pedido acumulado al igual que en el revenue en el caso de tratamiento b hay un pico despues de la mitad de la prueba lo cual podria indicar un pedido muy costoso"
   ]
  },
  {
   "cell_type": "markdown",
   "metadata": {},
   "source": [
    "### Representa gráficamente la diferencia relativa en el tamaño de pedido promedio acumulado para el grupo B en comparación con el grupo A. Haz conclusiones y conjeturas."
   ]
  },
  {
   "cell_type": "code",
   "execution_count": 12,
   "metadata": {},
   "outputs": [
    {
     "data": {
      "image/png": "[encoded data removed]",
      "text/plain": [
       "<Figure size 432x288 with 1 Axes>"
      ]
     },
     "metadata": {
      "needs_background": "light"
     },
     "output_type": "display_data"
    }
   ],
   "source": [
    "mergedacumulative=pd.merge(acumulativedata_a,acumulativedata_b, left_on='date', right_on='date', how='left', suffixes=['A', 'B'])\n",
    "plt.plot(mergedacumulative['date'],((mergedacumulative['revenueB']/mergedacumulative['ordersB'])/(mergedacumulative['revenueA']/mergedacumulative['ordersA'])-1))\n",
    "# agregar el eje X\n",
    "plt.axhline(y=0, color='black', linestyle='--') \n",
    "plt.title('diferencia relativa en el tamaño de pedido acumulado para el grupo b en comparacion con el grupo a')\n",
    "plt.xlabel('Fecha')\n",
    "plt.ylabel('diferencia relativa')\n",
    "\n",
    "plt.xticks(rotation='45')\n",
    "\n",
    "\n",
    "# Mostrar el gráfico\n",
    "plt.show()\n"
   ]
  },
  {
   "cell_type": "markdown",
   "metadata": {},
   "source": [
    "en este grafico se ve la coincidencia con los anteriores donde hay picos altos en los pedidos de b con los del grupo a"
   ]
  },
  {
   "cell_type": "markdown",
   "metadata": {},
   "source": [
    "### Calcula la tasa de conversión de cada grupo como la relación entre los pedidos y el número de visitas de cada día. Representa gráficamente las tasas de conversión diarias de los dos grupos y describe la diferencia. Saca conclusiones y haz conjeturas."
   ]
  },
  {
   "cell_type": "code",
   "execution_count": 13,
   "metadata": {
    "scrolled": true
   },
   "outputs": [
    {
     "data": {
      "image/png": "[encoded data removed]",
      "text/plain": [
       "<Figure size 432x288 with 1 Axes>"
      ]
     },
     "metadata": {
      "needs_background": "light"
     },
     "output_type": "display_data"
    }
   ],
   "source": [
    "#calcular la conversion\n",
    "acumulativedata['conversion']=acumulativedata['orders']/acumulativedata['visitors']\n",
    "#conversion del grupo a\n",
    "acumulative_a=acumulativedata[acumulativedata['group']=='A']\n",
    "#conversion del grupo  b\n",
    "acumulative_b=acumulativedata[acumulativedata['group']=='B']\n",
    "#grafico de tasa de conversion de a\n",
    "plt.plot(acumulative_a['date'],acumulative_a['conversion'],label='A')\n",
    "#grafico de tasa de conversion de b\n",
    "plt.plot(acumulative_b['date'],acumulative_b['conversion'],label='B')\n",
    "plt.legend()\n",
    "plt.title('tasas de conversión diarias de los dos grupos')\n",
    "plt.xlabel('Fecha')\n",
    "plt.ylabel('tasa de conversion')\n",
    "\n",
    "plt.xticks(rotation='45')\n",
    "# Añadir leyenda después de crear la figura\n",
    "plt.legend()\n",
    "\n",
    "# Mostrar el gráfico\n",
    "plt.show()\n"
   ]
  },
  {
   "cell_type": "markdown",
   "metadata": {},
   "source": [
    "al inicio se encontraba una conversion alta en mabos grupos pero eso ahora es irrelevante porque la tasa de conversion ahora se estabilizo poniendo al grupo b de tratamiento por encima del a"
   ]
  },
  {
   "cell_type": "markdown",
   "metadata": {},
   "source": [
    "### Traza un gráfico de dispersión del número de pedidos por usuario. Haz conclusiones y conjeturas."
   ]
  },
  {
   "cell_type": "code",
   "execution_count": 14,
   "metadata": {
    "scrolled": true
   },
   "outputs": [
    {
     "data": {
      "text/plain": [
       "<matplotlib.collections.PathCollection at 0x7f48a4787280>"
      ]
     },
     "execution_count": 14,
     "metadata": {},
     "output_type": "execute_result"
    },
    {
     "data": {
      "image/png": "[encoded data removed]",
      "text/plain": [
       "<Figure size 432x288 with 1 Axes>"
      ]
     },
     "metadata": {
      "needs_background": "light"
     },
     "output_type": "display_data"
    }
   ],
   "source": [
    "# Calcular el número de pedidos por usuario\n",
    "orderbyuser = orders.drop(['date','revenue','group'],axis=1).groupby('visitorid',as_index=False).agg({'transactionid':pd.Series.nunique})\n",
    "orderbyuser.columns=['userid','orders']\n",
    "# gráfico de dispersión\n",
    "x_values = pd.Series(range(0,len(orderbyuser)))\n",
    "\n",
    "plt.scatter(x_values, orderbyuser['orders']) \n"
   ]
  },
  {
   "cell_type": "markdown",
   "metadata": {},
   "source": [
    "la mayoria de usuarios hizo solo un pedido pero no conocemos la proporcion que hizo dos o mas"
   ]
  },
  {
   "cell_type": "markdown",
   "metadata": {},
   "source": [
    "### Calcula los percentiles 95 y 99 para el número de pedidos por usuario. Define el punto en el cual un punto de datos se convierte en una anomalía."
   ]
  },
  {
   "cell_type": "code",
   "execution_count": 15,
   "metadata": {},
   "outputs": [
    {
     "name": "stdout",
     "output_type": "stream",
     "text": [
      "[1. 2.]\n"
     ]
    }
   ],
   "source": [
    "print(np.percentile(orderbyuser['orders'], [ 95, 99])) "
   ]
  },
  {
   "cell_type": "markdown",
   "metadata": {},
   "source": [
    "los datos que se considerarian anomalos serian los mayores o igual a 2"
   ]
  },
  {
   "cell_type": "markdown",
   "metadata": {},
   "source": [
    "<div class=\"alert alert-block alert-success\">\n",
    "<b>Comentario del revisor</b> <a class=\"tocSkip\"></a>\n",
    "    \n",
    "Buen trabajo en esta sección.\n",
    "</div>"
   ]
  },
  {
   "cell_type": "markdown",
   "metadata": {},
   "source": [
    "### Traza un gráfico de dispersión de los precios de los pedidos. Haz conclusiones y conjeturas."
   ]
  },
  {
   "cell_type": "code",
   "execution_count": 16,
   "metadata": {},
   "outputs": [
    {
     "data": {
      "image/png": "[encoded data removed]",
      "text/plain": [
       "<Figure size 720x432 with 1 Axes>"
      ]
     },
     "metadata": {
      "needs_background": "light"
     },
     "output_type": "display_data"
    }
   ],
   "source": [
    "x_values = pd.Series(range(0, len(orders['revenue'])))\n",
    "plt.figure(figsize=(10, 6))\n",
    "plt.scatter(x_values, orders['revenue'], color='green', marker='o', alpha=0.7)\n",
    "plt.title('precio de pedidos a lo largo del Tiempo')\n",
    "plt.xlabel('secuencia de numeros')\n",
    "plt.ylabel('precio de Pedidos por Usuario')\n",
    "plt.grid(True)\n",
    "plt.show()\n"
   ]
  },
  {
   "cell_type": "markdown",
   "metadata": {},
   "source": [
    "a medida que pasa el tiempo los precios de los pedidos aumentan casi constantemente"
   ]
  },
  {
   "cell_type": "markdown",
   "metadata": {},
   "source": [
    "### Calcula los percentiles 95 y 99 de los precios de los pedidos. Define el punto en el cual un punto de datos se convierte en una anomalía."
   ]
  },
  {
   "cell_type": "code",
   "execution_count": 17,
   "metadata": {},
   "outputs": [
    {
     "name": "stdout",
     "output_type": "stream",
     "text": [
      "[414.275 830.3  ]\n"
     ]
    }
   ],
   "source": [
    "print(np.percentile(orders['revenue'], [ 95, 99])) "
   ]
  },
  {
   "cell_type": "markdown",
   "metadata": {},
   "source": [
    "los datos se convierten en una anomalia a partir de 414"
   ]
  },
  {
   "cell_type": "markdown",
   "metadata": {},
   "source": [
    "<div class=\"alert alert-block alert-success\">\n",
    "<b>Comentario del revisor</b> <a class=\"tocSkip\"></a>\n",
    "    \n",
    "Bien hecho.\n",
    "</div>"
   ]
  },
  {
   "cell_type": "markdown",
   "metadata": {},
   "source": [
    "### Encuentra la significancia estadística de la diferencia en la conversión entre los grupos utilizando los datos en bruto. Haz conclusiones y conjeturas."
   ]
  },
  {
   "cell_type": "code",
   "execution_count": 22,
   "metadata": {},
   "outputs": [
    {
     "name": "stdout",
     "output_type": "stream",
     "text": [
      "0.011\n",
      "0.160\n"
     ]
    },
    {
     "data": {
      "text/plain": [
       "0        1\n",
       "1        1\n",
       "2        1\n",
       "3        1\n",
       "4        1\n",
       "        ..\n",
       "18383    0\n",
       "18384    0\n",
       "18385    0\n",
       "18386    0\n",
       "18387    0\n",
       "Name: orders, Length: 18916, dtype: int64"
      ]
     },
     "execution_count": 22,
     "metadata": {},
     "output_type": "execute_result"
    }
   ],
   "source": [
    "#hallar las ordenes de usuarios del grupo a\n",
    "ordersbyusersa = orders[orders['group']=='A'].groupby('visitorid', as_index=False).agg({'transactionid' : pd.Series.nunique})\n",
    "ordersbyusersa.columns = ['userid', 'orders']\n",
    "#hallar las ordenes de usuarios del grupo b\n",
    "ordersbyusersb=orders[orders['group']=='B'].groupby('visitorid', as_index=False).agg({'transactionid' : pd.Series.nunique})\n",
    "ordersbyusersb.columns = ['userid', 'orders']\n",
    "#crear todas los pedidos del grupo a\n",
    "samplea = pd.concat([ordersbyusersa['orders'],pd.Series(0, index=np.arange(visits[visits['group']=='A']['visits'].sum() - len(ordersbyusersa['orders'])), name='orders')],axis=0)\n",
    "#crear todos los pedidos del grupo b\n",
    "sampleb = pd.concat([ordersbyusersb['orders'],pd.Series(0, index=np.arange(visits[visits['group']=='B']['visits'].sum() - len(ordersbyusersb['orders'])), name='orders')],axis=0)\n",
    "print(\"{0:.3f}\".format(stats.mannwhitneyu(samplea, sampleb)[1]))\n",
    "\n",
    "print(\"{0:.3f}\".format(sampleb.mean()/samplea.mean()-1)) \n",
    "sampleb"
   ]
  },
  {
   "cell_type": "markdown",
   "metadata": {},
   "source": [
    "h0(hipotesis nula)=no hay diferencia significativa en la conversion entre los grupos\n",
    "\n",
    "h1(hipotesis alternativa)= si hay diferencia significativa en la conversion entre los grupos\n",
    "\n",
    "\n",
    "La primera fila de la salida nos da el valor p — 0,011, que es menor que 0,05. Entonces,  podemos rechazar la hipótesis nula ya que hay una diferencia estadísticamente significativa en la conversión entre los grupos. Pero la ganancia relativa del grupo B es del 16% ."
   ]
  },
  {
   "cell_type": "markdown",
   "metadata": {},
   "source": [
    "### Encuentra la significancia estadística de la diferencia en el tamaño promedio de pedido entre los grupos utilizando los datos en bruto. Haz conclusiones y conjeturas."
   ]
  },
  {
   "cell_type": "code",
   "execution_count": 19,
   "metadata": {},
   "outputs": [
    {
     "name": "stdout",
     "output_type": "stream",
     "text": [
      "0.862\n",
      "0.278\n"
     ]
    }
   ],
   "source": [
    "print('{0:.3f}'.format(stats.mannwhitneyu(orders[orders['group']=='A']['revenue'], orders[orders['group']=='B']['revenue'])[1]))\n",
    "print('{0:.3f}'.format(orders[orders['group']=='B']['revenue'].mean()/orders[orders['group']=='A']['revenue'].mean()-1))"
   ]
  },
  {
   "cell_type": "markdown",
   "metadata": {},
   "source": [
    "h0(hipotesis nula)=no hay diferencia significativa en el tamaño promedio de pedido entre los grupos\n",
    "\n",
    "\n",
    "h1(hipotesis alternativa)= hay diferencia significativa en el tamaño promedio de pedido entre los grupos\n",
    "\n",
    "\n",
    "El valor p es notablemente superior a 0,05 por lo que no hay motivo para rechazar la hipótesis nula y concluir que el tamaño medio de los pedidos difiere entre los grupos. No obstante, el tamaño de pedido promedio para el grupo B es más grande que para el grupo A."
   ]
  },
  {
   "cell_type": "markdown",
   "metadata": {},
   "source": [
    "### Encuentra la significancia estadística de la diferencia en la conversión entre los grupos utilizando los datos filtrados. Haz conclusiones y conjeturas."
   ]
  },
  {
   "cell_type": "code",
   "execution_count": 20,
   "metadata": {},
   "outputs": [
    {
     "name": "stdout",
     "output_type": "stream",
     "text": [
      "0.016\n",
      "0.174\n"
     ]
    }
   ],
   "source": [
    "userswithmanyorders = pd.concat([ordersbyusersa[ordersbyusersa['orders'] >= 2]['userid'], ordersbyusersb[ordersbyusersb['orders'] >= 2]['userid']], axis = 0)\n",
    "userswithexpensiveorders = orders[orders['revenue'] > 414]['visitorid']\n",
    "abnormalUsers = pd.concat([userswithmanyorders, userswithexpensiveorders], axis = 0).drop_duplicates().sort_values()\n",
    "\n",
    "sampleafiltered = pd.concat([ordersbyusersa[np.logical_not(ordersbyusersa['userid'].isin(abnormalUsers))]['orders'],pd.Series(0, index=np.arange(visits[visits['group']=='A']['visits'].sum() - len(ordersbyusersa['orders'])),name='orders')],axis=0)\n",
    "\n",
    "samplebfiltered = pd.concat([ordersbyusersb[np.logical_not(ordersbyusersb['userid'].isin(abnormalUsers))]['orders'],pd.Series(0, index=np.arange(visits[visits['group']=='B']['visits'].sum() - len(ordersbyusersb['orders'])),name='orders')],axis=0)\n",
    "\n",
    "print(\"{0:.3f}\".format(stats.mannwhitneyu(sampleafiltered, samplebfiltered)[1]))\n",
    "print(\"{0:.3f}\".format(samplebfiltered.mean()/sampleafiltered.mean()-1)) "
   ]
  },
  {
   "cell_type": "markdown",
   "metadata": {},
   "source": [
    "h0(hipotesis nula)=no hay diferencia significativa en la conversion entre los grupos utilizando los datos filtrados\n",
    "\n",
    "\n",
    "h1(hipotesis alternativa)= hay diferencia significativa en la conversion entre los grupos utilizando los datos filtrados\n",
    "\n",
    "\n",
    "dado que el valor p es menor que 0.05 entonces, podemos rechazar la hipótesis nula ya que hay una diferencia estadísticamente significativa en la conversión entre los grupos y los datos anomalos no cambiaron mucho los resultados anteriores"
   ]
  },
  {
   "cell_type": "markdown",
   "metadata": {},
   "source": [
    "### Encuentra la significancia estadística de la diferencia en el tamaño promedio de pedido entre los grupos utilizando los datos filtrados. Haz conclusiones y conjeturas."
   ]
  },
  {
   "cell_type": "code",
   "execution_count": 21,
   "metadata": {},
   "outputs": [
    {
     "name": "stdout",
     "output_type": "stream",
     "text": [
      "0.771\n",
      "-0.033\n"
     ]
    }
   ],
   "source": [
    "print('{0:.3f}'.format(stats.mannwhitneyu(orders[np.logical_and(orders['group']=='A',np.logical_not(orders['visitorid'].isin(abnormalUsers)))]['revenue'], orders[np.logical_and(orders['group']=='B',np.logical_not(orders['visitorid'].isin(abnormalUsers)))]['revenue'])[1]))\n",
    "print('{0:.3f}'.format(orders[np.logical_and(orders['group']=='B',np.logical_not(orders['visitorid'].isin(abnormalUsers)))]['revenue'].mean()/orders[np.logical_and(orders['group']=='A',np.logical_not(orders['visitorid'].isin(abnormalUsers)))]['revenue'].mean()-1))"
   ]
  },
  {
   "cell_type": "markdown",
   "metadata": {},
   "source": [
    "h0(hipotesis nula)=no hay diferencia significativa en el tamaño promedio de pedido entre los grupos utilizando los datos filtrados\n",
    "\n",
    "h1(hipotesis alternativa)= hay diferencia significativa en el tamaño promedio de pedido entre los grupos utilizando los datos filtrados\n",
    "\n",
    "El valor p es notablemente superior a 0,05 por lo que no hay motivo para rechazar la hipótesis nula y concluir que el tamaño medio de los pedidos difiere entre los grupos.Pero en el caso de los resultados de b en funcion de a se ve que decrecio , y el grupo a es superior en los pedidos medios a b por 3.3%"
   ]
  },
  {
   "cell_type": "markdown",
   "metadata": {},
   "source": [
    "### Toma una decisión basada en los resultados de la prueba. Las decisiones posibles son: 1. Para la prueba, considera a uno de los grupos como líder. 2. Para la prueba, concluye que no hay diferencia entre los grupos. 3. Continúa la prueba."
   ]
  },
  {
   "cell_type": "markdown",
   "metadata": {},
   "source": [
    "segun la prueba de significancia estadistica se para la prueba y se concluye que hay una diferencia significativa en la conversion en este caso en favor del grupo de tratamiento osea el b y se debe estudiar porque a pesar de tener ese exito de conversion , el tamaño promedio de pedido entre los dos grupos no tiene ese diferencia significativa que se deberia ver reflejada por la conversion mas alta de un grupo con respecto a otro"
   ]
  },
  {
   "cell_type": "markdown",
   "metadata": {},
   "source": [
    "<div class=\"alert alert-block alert-danger\">\n",
    "    \n",
    "# Comentarios generales\n",
    "<b>Comentario del revisor</b> <a class=\"tocSkip\"></a>\n",
    "    \n",
    "Parece ser que no se guardaron los comentarios realizados en esta sección. Agrega una conclusión general sobre lo encontrado y respondiendo al objetivo del proyecto.\n",
    "</div>"
   ]
  },
  {
   "cell_type": "markdown",
   "metadata": {},
   "source": [
    "<div class=\"alert alert-block alert-danger\">\n",
    "    \n",
    "# Comentarios generales\n",
    "<b>Comentario del revisor</b> <a class=\"tocSkip\"></a>\n",
    "    \n",
    "Buen trabajo, Yair. Nos queda un solo elemento por corregir.\n",
    "</div>"
   ]
  },
  {
   "cell_type": "markdown",
   "metadata": {},
   "source": [
    "<div class=\"alert alert-block alert-success\">\n",
    "    \n",
    "# Comentarios generales\n",
    "<b>Comentario del revisor</b> <a class=\"tocSkip\"></a>\n",
    "    \n",
    "¡Todo corregido! Has aprobado un nuevo proyecto. ¡Felicitaciones!\n",
    "</div>"
   ]
  },
  {
   "cell_type": "markdown",
   "metadata": {},
   "source": [
    "+++"
   ]
  },
  {
   "cell_type": "markdown",
   "metadata": {},
   "source": []
  }
 ],
 "metadata": {
  "kernelspec": {
   "display_name": "Python 3 (ipykernel)",
   "language": "python",
   "name": "python3"
  },
  "language_info": {
   "codemirror_mode": {
    "name": "ipython",
    "version": 3
   },
   "file_extension": ".py",
   "mimetype": "text/x-python",
   "name": "python",
   "nbconvert_exporter": "python",
   "pygments_lexer": "ipython3",
   "version": "3.9.5"
  },
  "toc": {
   "base_numbering": 1,
   "nav_menu": {},
   "number_sections": true,
   "sideBar": true,
   "skip_h1_title": true,
   "title_cell": "Table of Contents",
   "title_sidebar": "Contents",
   "toc_cell": false,
   "toc_position": {},
   "toc_section_display": true,
   "toc_window_display": false
  }
 },
 "nbformat": 4,
 "nbformat_minor": 2
}
